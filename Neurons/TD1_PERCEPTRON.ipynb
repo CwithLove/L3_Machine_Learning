{
 "cells": [
  {
   "cell_type": "code",
   "execution_count": 37,
   "metadata": {},
   "outputs": [],
   "source": [
    "import numpy as np\n",
    "import pandas as pd\n",
    "import sklearn\n",
    "from sklearn.model_selection import train_test_split\n",
    "import random\n",
    "import matplotlib.pyplot as plt"
   ]
  },
  {
   "cell_type": "markdown",
   "metadata": {},
   "source": [
    "# TD2 : PERCEPTRON"
   ]
  },
  {
   "cell_type": "markdown",
   "metadata": {},
   "source": [
    "### Exercice 1. Algorithme de perceptron\n",
    "\n",
    "Les vecteurs de x [1,1] ; [-1,1] ; [-1,-1] ; [1,-1] et y respectivement 1 1 -1 1"
   ]
  },
  {
   "cell_type": "code",
   "execution_count": 19,
   "metadata": {},
   "outputs": [],
   "source": [
    "S = [\n",
    "    [[1,1,1],1], \n",
    "    [[-1,1,1],1], \n",
    "    [[-1,-1,1],-1], \n",
    "    [[1,-1,1],1]\n",
    "]\n",
    "\n",
    "x = np.array([ei[0] for ei in S])\n",
    "y = np.array([ei[1] for ei in S])"
   ]
  },
  {
   "cell_type": "markdown",
   "metadata": {},
   "source": [
    "\n",
    "Dessiner les points "
   ]
  },
  {
   "cell_type": "code",
   "execution_count": 39,
   "metadata": {},
   "outputs": [
    {
     "data": {
      "text/plain": [
       "<matplotlib.collections.PathCollection at 0x7e617c01d600>"
      ]
     },
     "execution_count": 39,
     "metadata": {},
     "output_type": "execute_result"
    },
    {
     "data": {
      "image/png": "[encoded data removed]",
      "text/plain": [
       "<Figure size 432x288 with 1 Axes>"
      ]
     },
     "metadata": {
      "needs_background": "light"
     },
     "output_type": "display_data"
    }
   ],
   "source": [
    "plt.scatter(x[:,0], x[:,1], c=y, cmap='bwr')"
   ]
  },
  {
   "cell_type": "markdown",
   "metadata": {},
   "source": [
    "Definir la classe Perceptron\n"
   ]
  },
  {
   "cell_type": "code",
   "execution_count": 40,
   "metadata": {},
   "outputs": [],
   "source": [
    "class Perceptron():\n",
    "    def __init__(self):\n",
    "        self.name = 'Perceptron'\n",
    "        \n",
    "    def __str__(self):\n",
    "        return self.name\n",
    "    \n",
    "    def algo(self, x, y):\n",
    "        ws = np.zeros(3)\n",
    "        for i in range(len(x)):\n",
    "            print(\"iter \", i, \": ws = \",ws)\n",
    "            if (np.dot(ws,x[i])*y[i] <= 0):\n",
    "                ws += y[i]*x[i]\n",
    "                \n",
    "        return ws"
   ]
  },
  {
   "cell_type": "markdown",
   "metadata": {},
   "source": [
    "Essayer avec l'exemples ci dessus"
   ]
  },
  {
   "cell_type": "code",
   "execution_count": 59,
   "metadata": {},
   "outputs": [
    {
     "name": "stdout",
     "output_type": "stream",
     "text": [
      "iter  0 : ws =  [0. 0. 0.]\n",
      "iter  1 : ws =  [1. 1. 1.]\n",
      "iter  2 : ws =  [1. 1. 1.]\n",
      "iter  3 : ws =  [1. 1. 1.]\n"
     ]
    }
   ],
   "source": [
    "perceptron = Perceptron()\n",
    "\n",
    "ws = perceptron.algo(x,y)"
   ]
  },
  {
   "cell_type": "markdown",
   "metadata": {},
   "source": [
    "Equation de la droite separatrice trouvee \n",
    "\n",
    "w1.x1 + w2.x2 + w3 = 0"
   ]
  },
  {
   "cell_type": "code",
   "execution_count": 62,
   "metadata": {},
   "outputs": [
    {
     "data": {
      "text/plain": [
       "Text(0.5, 1.0, 'y = x + 1')"
      ]
     },
     "execution_count": 62,
     "metadata": {},
     "output_type": "execute_result"
    },
    {
     "data": {
      "image/png": "[encoded data removed]",
      "text/plain": [
       "<Figure size 432x288 with 1 Axes>"
      ]
     },
     "metadata": {
      "needs_background": "light"
     },
     "output_type": "display_data"
    }
   ],
   "source": [
    "x_cor = np.linspace(-1, 0, 100)\n",
    "\n",
    "# Calculate y values using the equation x2 = -(x1.w1 + b)/w2\n",
    "y_cor = -(x_cor*ws[1] + 1*ws[2])/ws[0]\n",
    "\n",
    "plt.scatter(x[:,0], x[:,1], c=y, cmap='bwr')\n",
    "plt.plot(x_cor, y_cor)\n",
    "plt.xlabel('x')\n",
    "plt.ylabel('y')\n",
    "plt.title('y = x + 1')\n"
   ]
  },
  {
   "cell_type": "markdown",
   "metadata": {},
   "source": [
    "### Exercice 2. Theoreme de NOVIKOFF\n",
    "\n"
   ]
  },
  {
   "cell_type": "code",
   "execution_count": 56,
   "metadata": {},
   "outputs": [
    {
     "name": "stdout",
     "output_type": "stream",
     "text": [
      "1.0\n",
      "0.3333333333333333\n",
      "0.3333333333333333\n",
      "0.3333333333333333\n"
     ]
    }
   ],
   "source": [
    "w_norme = np.dot(ws, ws)\n",
    "w_norme\n",
    "for i in range(len(x)):\n",
    "    print(y[i]*np.dot(ws/w_norme, x[i]))"
   ]
  }
 ],
 "metadata": {
  "kernelspec": {
   "display_name": "Python 3 (ipykernel)",
   "language": "python",
   "name": "python3"
  },
  "language_info": {
   "codemirror_mode": {
    "name": "ipython",
    "version": 3
   },
   "file_extension": ".py",
   "mimetype": "text/x-python",
   "name": "python",
   "nbconvert_exporter": "python",
   "pygments_lexer": "ipython3",
   "version": "3.10.12"
  }
 },
 "nbformat": 4,
 "nbformat_minor": 4
}
