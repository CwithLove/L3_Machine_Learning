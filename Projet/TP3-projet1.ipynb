{
 "cells": [
  {
   "cell_type": "code",
   "execution_count": 212,
   "metadata": {},
   "outputs": [],
   "source": [
    "import numpy as np\n",
    "import pandas as pd\n",
    "import sklearn\n",
    "from sklearn.model_selection import train_test_split\n",
    "import random"
   ]
  },
  {
   "cell_type": "markdown",
   "metadata": {},
   "source": [
    "# Projet: Modèles linéaires:  Adaline et Regression Logistique"
   ]
  },
  {
   "cell_type": "markdown",
   "metadata": {},
   "source": [
    "Nous allons nous intéresser à l'implémentation d'un algorithme de descente de gradient pour trouver le meilleur paramètre d'un module Adaline ou de regression logistique.\n",
    "\n",
    "Pout cela, on implémentera un algorithme de descente de gradient stochastique que nous avons vu au TP précédent et dont le pseudo-code peut être résumé comme suit:\n",
    "\n",
    "```input: Train, eta, m, MaxEp, modele\n",
    "init : w\n",
    "epoque=0\n",
    "while epoque<=MaxEp\n",
    "    choisir un exemple (x,y) de Train de façon aléatoire\n",
    "    calculer h = w*x\n",
    "    calculer Loss(h, y)\n",
    "    w <- w - eta*\"gradient de Loss(h, y) par rapport à w\"\n",
    "    epoque <- epoque+1\n",
    "output: w\n",
    "```\n",
    "où \"eta\" est le pas de la descente de gradient (exemple: eta=0.01).\n",
    "\n",
    "Si on veut imprimer l'erreur tous les \"m\" pas de gradient:\n",
    "```input: Train, eta, m, MaxEp, modele\n",
    "init : w\n",
    "epoque=0\n",
    "while epoque<=MaxEp\n",
    "    err = 0\n",
    "    for i in range(m):\n",
    "        choisir un exemple (x,y) de Train de façon aléatoire\n",
    "        calculer h = w*x\n",
    "        err += Loss(h, y)\n",
    "        w <- w - eta*\"gradient de Loss(h, y) par rapport à w\"\n",
    "    epoque <- epoque+1\n",
    "    print(err)\n",
    "output: w\n",
    "```\n",
    "\n",
    "Pour un poids $w$, on définit $h_\\mathbf{w}(\\mathbf{x})=w_0x_0+w_1x_1+...w_dx_d$. Pour chacun des deux modèles, et pour un exemple $(\\mathbf{x},y)$, la prédiction $\\hat{y}(\\mathbf{w}, \\mathbf{x})$ et la fonction de coût  $\\mathcal{L}(\\mathbf{w}, \\mathbf{x})$ sont: \n",
    "- Adaline: $\\hat{y}(\\mathbf{w}, \\mathbf{x}) = h_\\mathbf{w}(x)$ et $$\\mathcal{L}(\\mathbf{w})=(y-\\hat{y}(\\mathbf{w},\\mathbf{x}))^2=(y-h_\\mathbf{w}(\\mathbf{x}))^2,$$\n",
    "- Régression logistique: $\\hat{y}(w, x) = 1/(1+e^{-h_{\\mathbf{w}}(\\mathbf{x})})$ et $$\\mathcal{L}(\\mathbf{w}, x) = - y \\log \\hat{y}(\\mathbf{w},\\mathbf{x}) - (1-y)\\log(1-\\hat{y}(\\mathbf{w},\\mathbf{x})) = \\log(1+e^{h_{\\mathbf{w}}(\\mathbf{x})})-yh_\\mathbf{w}(\\mathbf{x}),$$\n",
    "\n"
   ]
  },
  {
   "cell_type": "code",
   "execution_count": 213,
   "metadata": {},
   "outputs": [],
   "source": [
    "#  Coder Struture Adaline et Regression Logistique # \n",
    "class Model:\n",
    "    model = \"\"\n",
    "    \n",
    "    def __init__(self, model):\n",
    "        self.model = model    \n",
    "    \n",
    "    def prediction(self, w, x):\n",
    "        \"\"\"\n",
    "        w : vecteur de poids\n",
    "        x : vecteur d'entrée\n",
    "        Retourne la prediction du modèle\n",
    "        \"\"\"\n",
    "        if self.model == \"Adaline\":\n",
    "            return w@x\n",
    "        elif self.model == \"Regression Logistique\":\n",
    "            return 1/(1 + np.exp(-w@x))\n",
    "        else:\n",
    "            raise ValueError(\"Modèle non reconnu\")\n",
    "    \n",
    "    def loss(self, w, x, y):\n",
    "        \"\"\"\n",
    "        p : prédiction\n",
    "        y : valeur réelle\n",
    "        Retourne la perte entre p et ye\n",
    "        \"\"\"\n",
    "        if self.model == \"Adaline\":\n",
    "            return (self.prediction(w,x)-y)**2\n",
    "        elif self.model == \"Regression Logistique\":\n",
    "            p = self.prediction(w,x)\n",
    "            p = np.clip(p, 1e-10, 1-1e-10)\n",
    "            return -y*np.log(p) - (1-y)*np.log(1-p)\n",
    "        else:\n",
    "            raise ValueError(\"Modèle non reconnu\")\n",
    "\n",
    "    def gradient(self, w, x, y):\n",
    "        \"\"\"\n",
    "        w : vecteur de poids\n",
    "        x : vecteur d'entrée\n",
    "        y : valeur réelle\n",
    "        Retourne le gradient de la fonction loss\n",
    "        \"\"\"\n",
    "        if self.model == \"Adaline\":\n",
    "            return 2*(self.prediction(w,x)-y)*x\n",
    "        elif self.model == \"Regression Logistique\":\n",
    "            p = self.prediction(w,x)\n",
    "            return (p-y)*x\n",
    "        else:\n",
    "            raise ValueError(\"Modèle non reconnu\")\n",
    "    \n",
    "    def __str__(self):\n",
    "        return self.model"
   ]
  },
  {
   "cell_type": "markdown",
   "metadata": {},
   "source": [
    "Nous avons vu les gradients de ces fonctions en TD.\n",
    "\n",
    "## Partie 1: implémentation de l'algorithme et exemple du \"ET logique\"\n",
    "\n",
    "<font color='red'><b>Question 1:</b> le \"ET logique\".</font> Créer une liste de 4 éléments où chaque élément est un couple de la forme `[x,y]`, avec `x=[1,x1,x2]` et `y = x1 and x2`. Il y a 4 éléments car `x1` et `x2` peuvent chacun prendre la valeur `0` ou `1` (chacun de ces 4 éléments est une liste dont le premier élément est les attributs de l'exemple et le deuxième élément est la classe de l'exemple)."
   ]
  },
  {
   "cell_type": "code",
   "execution_count": 214,
   "metadata": {},
   "outputs": [
    {
     "data": {
      "text/plain": [
       "(array([[1, 0, 0],\n",
       "        [1, 1, 0],\n",
       "        [1, 0, 1],\n",
       "        [1, 1, 1]]),\n",
       " array([0, 0, 0, 1]))"
      ]
     },
     "execution_count": 214,
     "metadata": {},
     "output_type": "execute_result"
    }
   ],
   "source": [
    "# Creation de liste ET logique #\n",
    "liste = [0] * 4\n",
    "for x1 in range(2):\n",
    "    for x2 in range(2):\n",
    "        liste[x1*1+x2*2] = [[1,x1,x2], x1 and x2] \n",
    "\n",
    "x_ET_logique = np.array([ei[0] for ei in liste])\n",
    "y_ET_logique = np.array([ei[1] for ei in liste])\n",
    "\n",
    "x_ET_logique, y_ET_logique"
   ]
  },
  {
   "cell_type": "markdown",
   "metadata": {},
   "source": [
    "\n",
    "Codage d'une structure pour stocker les listes de feature et la liste de label "
   ]
  },
  {
   "cell_type": "code",
   "execution_count": 215,
   "metadata": {},
   "outputs": [],
   "source": [
    "import random as rd\n",
    "\n",
    "class collection:\n",
    "    # Structure de données pour stocker les données\n",
    "    def __init__(self, x, y):\n",
    "        if (len(x) != len(y)):\n",
    "            raise ValueError(\"Les données x et y n'ont pas la même longueur\")\n",
    "        self.x = x\n",
    "        self.y = y\n",
    "    \n",
    "    def nombre_de_feature(self):\n",
    "        return len(self.x[0])\n",
    "    \n",
    "    def nombre_de_data(self):\n",
    "        return len(self.x)\n",
    "    \n",
    "    def __str__(self):\n",
    "        return f\"x : {self.x}, y : {self.y}\""
   ]
  },
  {
   "cell_type": "markdown",
   "metadata": {},
   "source": [
    "<font color='red'><b>Question 2:</b></font> Coder un algorithme de descente de gradient stochastique pour les modèles Adaline et le modèle de régression logistique. \n"
   ]
  },
  {
   "cell_type": "code",
   "execution_count": 216,
   "metadata": {},
   "outputs": [
    {
     "data": {
      "text/plain": [
       "array([-0.16593936,  0.4212408 ,  0.54807763])"
      ]
     },
     "execution_count": 216,
     "metadata": {},
     "output_type": "execute_result"
    }
   ],
   "source": [
    "import random as rd\n",
    "\n",
    "def SGD(model, collection, MaxEp, eta, m = 0):\n",
    "    \"\"\"\n",
    "    Entree: \n",
    "    model : model Adaline ou Regression Logistique\n",
    "    collection : collection de données\n",
    "    eta : pas d'apprentissage\n",
    "    \n",
    "    Sortie:\n",
    "    w : vecteur de poids\n",
    "    \"\"\"\n",
    "    if m == 0: \n",
    "        m = 1\n",
    "        err_printing = False\n",
    "    else: \n",
    "        err_printing = True\n",
    "        \n",
    "    threshold = 1e+100\n",
    "    \n",
    "    w = np.random.rand(collection.nombre_de_feature()) * 0.01\n",
    "    for epoque in range(MaxEp):\n",
    "        err = 0\n",
    "        for _ in range(m):\n",
    "            i = rd.randint(0, collection.nombre_de_data()-1)\n",
    "            err += model.loss(w, collection.x[i], collection.y[i])\n",
    "            g = model.gradient(w, collection.x[i], collection.y[i])\n",
    "            w = w - eta(epoque)*g\n",
    "            w = np.clip(w, -threshold, threshold)\n",
    "        if err_printing:\n",
    "            print(f\"Loss : {err}\")\n",
    "    return w\n",
    "    \n",
    "    \n",
    "def SGD_with_error_printing(model, collection, MaxEp, m, eta):\n",
    "    return SGD(model, collection, MaxEp, eta, m)\n",
    "\n",
    "\n",
    "# Learning rate # \n",
    "def eta_0001(t):\n",
    "    return 0.0001\n",
    "  \n",
    "def eta_001(t):\n",
    "    return 0.01\n",
    "\n",
    "def eta_01(t):\n",
    "    return 0.1\n",
    "#################\n",
    "\n",
    "# Test de la fonction SGD\n",
    "adaline = Model(\"Adaline\")\n",
    "regression_logistique = Model(\"Regression Logistique\")\n",
    "collection_et_logique = collection(x_ET_logique, y_ET_logique)\n",
    "w = SGD(adaline, collection_et_logique, 100, eta_01)\n",
    "w"
   ]
  },
  {
   "cell_type": "markdown",
   "metadata": {},
   "source": [
    "Tourner les 2 modèles sur la collection de \"ET logique\"."
   ]
  },
  {
   "cell_type": "code",
   "execution_count": 217,
   "metadata": {},
   "outputs": [
    {
     "name": "stdout",
     "output_type": "stream",
     "text": [
      "Final weights for Adaline on 'ET logique': [0.08198815 0.23779581 0.22120593]\n",
      "Loss : 2.0883406968640115\n",
      "Loss : 2.0663154429404553\n",
      "Loss : 2.0767091361493244\n",
      "Loss : 2.0929981127572512\n",
      "Loss : 2.0742405016638106\n",
      "Loss : 2.0358124328417824\n",
      "Loss : 2.0673207571554357\n",
      "Loss : 2.056062560953863\n",
      "Loss : 2.0486716643354703\n",
      "Loss : 2.0930975987645613\n",
      "Loss : 2.077553076876035\n",
      "Loss : 2.0472868818441254\n",
      "Loss : 2.0267269161234336\n",
      "Loss : 2.0403681887789378\n",
      "Loss : 1.9683550216121142\n",
      "Loss : 2.028971550972071\n",
      "Loss : 1.954989725954722\n",
      "Loss : 1.9413211065162703\n",
      "Loss : 1.916579723227514\n",
      "Loss : 1.9125212466110044\n",
      "Loss : 2.0131961207466937\n",
      "Loss : 1.8698384078660342\n",
      "Loss : 2.0024842889267838\n",
      "Loss : 2.010634948931357\n",
      "Loss : 1.8480048687151491\n",
      "Loss : 2.0017596649523033\n",
      "Loss : 1.8140867869792419\n",
      "Loss : 1.789955248739798\n",
      "Loss : 1.7714804146508627\n",
      "Loss : 1.987243100545586\n",
      "Loss : 1.7464976829669618\n",
      "Loss : 1.9822618219713486\n",
      "Loss : 2.2287336871238885\n",
      "Loss : 2.194440488300953\n",
      "Loss : 1.9697825467810222\n",
      "Loss : 1.9737839503027597\n",
      "Loss : 1.7534793891865568\n",
      "Loss : 1.9603421078831649\n",
      "Loss : 1.9606850766132387\n",
      "Loss : 1.9702531504506582\n",
      "Loss : 1.7217331954944057\n",
      "Loss : 1.9697716178709794\n",
      "Loss : 1.952818192500699\n",
      "Loss : 1.9430098533311453\n",
      "Loss : 1.9582585670199966\n",
      "Loss : 1.9791696492244573\n",
      "Loss : 2.183974426925594\n",
      "Loss : 1.9318073527341537\n",
      "Loss : 1.7539938089309273\n",
      "Loss : 1.7114948137448884\n",
      "Loss : 1.9555073724530456\n",
      "Loss : 1.6525771867132848\n",
      "Loss : 1.9372186649839769\n",
      "Loss : 1.631802994462222\n",
      "Loss : 1.9301799600866374\n",
      "Loss : 2.222356005471738\n",
      "Loss : 2.2038889543911937\n",
      "Loss : 1.8885948154628862\n",
      "Loss : 1.6617778507818304\n",
      "Loss : 1.6664433205794325\n",
      "Loss : 1.5979430506511008\n",
      "Loss : 1.603528578924962\n",
      "Loss : 1.910762002519999\n",
      "Loss : 1.5829662577634083\n",
      "Loss : 1.9284674546035838\n",
      "Loss : 1.5431062569684475\n",
      "Loss : 1.9013778999072888\n",
      "Loss : 1.9150830400964525\n",
      "Loss : 1.555198291337444\n",
      "Loss : 1.5212184069601915\n",
      "Loss : 1.9045752672497955\n",
      "Loss : 1.8923155261470557\n",
      "Loss : 1.472197684239201\n",
      "Loss : 1.4994953010623884\n",
      "Loss : 2.6711958591561915\n",
      "Loss : 1.8983546010220231\n",
      "Loss : 2.221218362681705\n",
      "Loss : 1.5348905025268689\n",
      "Loss : 2.2071920936458262\n",
      "Loss : 1.859289186657791\n",
      "Loss : 1.5452482940288679\n",
      "Loss : 1.8547315263883672\n",
      "Loss : 1.8757105249419854\n",
      "Loss : 1.5106626131669767\n",
      "Loss : 2.567250259327269\n",
      "Loss : 2.152248675716219\n",
      "Loss : 1.6079806126218466\n",
      "Loss : 1.8613255379880012\n",
      "Loss : 1.8313479772110879\n",
      "Loss : 1.8886739546948619\n",
      "Loss : 1.8875383366507326\n",
      "Loss : 1.4945289531926504\n",
      "Loss : 1.5348230298152992\n",
      "Loss : 1.4399482390291005\n",
      "Loss : 2.2084441442559677\n",
      "Loss : 1.4619529584401774\n",
      "Loss : 1.3908174692401538\n",
      "Loss : 1.4670577033754073\n",
      "Loss : 1.4505878647031532\n",
      "Loss : 1.5040540711211943\n",
      "Final weights for Logistic Regression on 'ET logique': [-0.57031967  0.12523953  0.07900804]\n"
     ]
    }
   ],
   "source": [
    "# Training Adaline on \"ET logique\"\n",
    "w_adaline = SGD(adaline, collection_et_logique, 100, eta_001)\n",
    "print(\"Final weights for Adaline on 'ET logique':\", w_adaline)\n",
    "\n",
    "# Training Logistic Regression on \"ET logique\"\n",
    "w_logistic = SGD_with_error_printing(regression_logistique, collection_et_logique, 100, 3, eta_001)\n",
    "print(\"Final weights for Logistic Regression on 'ET logique':\", w_logistic)"
   ]
  },
  {
   "cell_type": "markdown",
   "metadata": {},
   "source": [
    "Calculer le taux d'erreur de votre algorithme sur cette base (où une erreur est comptabilisé si la prédiction est plus proche de la fausse classe que de la vraie classe). "
   ]
  },
  {
   "cell_type": "code",
   "execution_count": 218,
   "metadata": {},
   "outputs": [],
   "source": [
    "\n",
    "def calculate_error_rate(model, collection, w):\n",
    "    \"\"\"\n",
    "    Entree:\n",
    "    model : model Adaline ou Regression Logistique\n",
    "    collection : collection de données\n",
    "    w : vecteur de poids\n",
    "    \n",
    "    Sortie:\n",
    "    errors : taux d'erreur\n",
    "    \"\"\"\n",
    "    errors = 0\n",
    "    n = collection.nombre_de_data()\n",
    "    for i in range(n):\n",
    "        pred = model.prediction(w, collection.x[i])\n",
    "        if abs(pred - (1 - collection.y[i])) < abs(pred - collection.y[i]):\n",
    "            errors += 1\n",
    "    return errors / n\n",
    "\n",
    "# Function to calculate error rate multiple times\n",
    "def calculate_multiple_error_rates(model, train_collection, test_collection, num_iterations, eta, Maxep):\n",
    "    \"\"\"\n",
    "    Calculer le taux d'erreur plusieurs fois\n",
    "    \n",
    "    Objectif:\n",
    "    - Entrainer le modèle plusieurs fois\n",
    "    - Calculer le taux d'erreur à chaque itération\n",
    "    - Verifier la stabilité et la convergence de l'algorithme\n",
    "    \"\"\"\n",
    "    error_rates = np.zeros(num_iterations)\n",
    "    for _ in range(num_iterations):\n",
    "        w = SGD(model, train_collection, Maxep, eta)\n",
    "        error_rate = calculate_error_rate(model, test_collection, w)\n",
    "        error_rates[_] = (error_rate)\n",
    "    mean_error_rate = np.mean(error_rates)\n",
    "    return mean_error_rate\n",
    "\n",
    "\n",
    "# Calculate error rates for Adaline and Logistic Regression\n",
    "num_iterations = 25\n",
    "\n",
    "#####################################\n",
    "# Calculate error rates for Adaline #\n",
    "# calculate_multiple_error_rates(adaline, collection_et_logique, collection_et_logique, num_iterations, eta_001, 100, True)\n",
    "# calculate_multiple_error_rates(adaline, collection_et_logique, collection_et_logique, num_iterations, eta_01, 100, True)\n",
    "\n",
    "#################################################\n",
    "# Calculate error rates for Logistic Regression #\n",
    "# calculate_multiple_error_rates(regression_logistique, collection_et_logique, collection_et_logique, num_iterations, eta_001, 100, True)\n",
    "# calculate_multiple_error_rates(regression_logistique, collection_et_logique, collection_et_logique, num_iterations, eta_01, 100, True)\n",
    "# calculate_multiple_error_rates(regression_logistique, collection_et_logique, collection_et_logique, num_iterations, eta_01, 200, True)\n",
    "# calculate_multiple_error_rates(regression_logistique, collection_et_logique, collection_et_logique, num_iterations, eta_01, 250, True)\n",
    "# calculate_multiple_error_rates(regression_logistique, collection_et_logique, collection_et_logique, num_iterations, eta_01, 300, True)\n"
   ]
  },
  {
   "cell_type": "markdown",
   "metadata": {},
   "source": [
    "## Partie 2: premiers tests avec une base de donnée réelle\n",
    "\n",
    "<font color='red'><b>Question 3:</b></font> Nous allons maintenant nous intéresser au comportement de ces modèles sur la base SONAR de la collection UCI (http://archive.ics.uci.edu/ml/index.php). Cette base contient 208 exemples en dimension 60 séparés par `,` et la dernière élément correspond à la classe de l'exemple.\n",
    "\n",
    "    1. Télécharger la collection avec la fonction read_table de la librairie pandas (https://pandas.pydata.org/pandas-docs/stable/generated/pandas.read_table.html). Les options nécessaires sont `sep=','` et `header=None`  \n",
    "    2. Créer une liste de listes correspondant à la collection; pour cela initialiser la première liste et en parcourant chaque ligne de la matrice de données; créer une liste associée en remplaçant le dernier élément par `0` ou `+1` et insérer la dans la première liste. \n",
    "    Indication: Utiliser la fonction `loc`. \n",
    "    3. Écrire une fonction qui génère deux listes de données `x_train` (75%) and `x_test` (25%) en la mélangeant aléatoirement au préalable (indication: on pourra utiliser les fonctions `shuffle` de la librairie `random` et `train_test_split` de la librairie `sklearn.model_selection`)\n",
    "    "
   ]
  },
  {
   "cell_type": "markdown",
   "metadata": {},
   "source": [
    "Codage la Structure dataFrame"
   ]
  },
  {
   "cell_type": "code",
   "execution_count": 219,
   "metadata": {},
   "outputs": [],
   "source": [
    "class dataFrame:\n",
    "    def __init__(self, df, target_column, class_type):\n",
    "        if not isinstance(df, pd.DataFrame):\n",
    "            raise ValueError(\"L'objet n'est pas un DataFrame\")\n",
    "        self.df = df\n",
    "        self.target_column = int(target_column)\n",
    "        self.class_type = class_type\n",
    "        self.num_data = self.df.shape[0]\n",
    "        self.num_features = self.df.shape[1]\n",
    "    \n",
    "    def produce_collection(self):\n",
    "        x = np.zeros((self.num_data, self.num_features - 1))\n",
    "        y = np.zeros(self.num_data)\n",
    "        \n",
    "        features_idx = 0\n",
    "        for i in range(self.num_features):\n",
    "            if i == self.target_column:\n",
    "                continue\n",
    "            x[:, features_idx] = self.df[i]\n",
    "            features_idx += 1\n",
    "        \n",
    "        if self.class_type == None:\n",
    "            for i in range(self.num_data):\n",
    "                y[i] = self.df[self.target_column][i]\n",
    "        else:\n",
    "            for i in range(self.num_data):\n",
    "                if self.df[self.target_column][i] == self.class_type[0]: y[i] = 0\n",
    "                elif self.df[self.target_column][i] == self.class_type[1]: y[i] = 1\n",
    "        \n",
    "        return collection(x, y)"
   ]
  },
  {
   "cell_type": "markdown",
   "metadata": {},
   "source": [
    "Fonction qui génère deux listes de données `x_train` (75%) and `x_test` (25%) en la mélangeant aléatoirement au préalable"
   ]
  },
  {
   "cell_type": "code",
   "execution_count": 220,
   "metadata": {},
   "outputs": [],
   "source": [
    "# Fonction pour generer train et test random\n",
    "def generate_train_test_random(self, test_size=0.25):\n",
    "    data = list(zip(self.x, self.y))\n",
    "    rd.shuffle(data)\n",
    "    new_X = np.array([i for i, j in data])\n",
    "    new_Y = np.array([j for i, j in data])\n",
    "    x_train, x_test, y_train, y_test = train_test_split(new_X, new_Y, test_size=test_size)\n",
    "    return collection(x_train, y_train), collection(x_test, y_test)\n",
    "\n",
    "# Ajout de la fonction à la classe collection\n",
    "collection.generate_train_test_random = generate_train_test_random"
   ]
  },
  {
   "cell_type": "markdown",
   "metadata": {},
   "source": [
    "<font color='red'><b>Question 4:</b></font> Appliquer ces modèles sur cette base (on pourra prendre $MaxEp\\approx1000$ et le pas d'apprentissage $\\eta\\approx0.1$) et en choisissant les bases Train et Test de façon aléatoire. Reporter l'erreur moyenne de ces modèles obtenues sur les exemples de donnés de \"test\"? \n"
   ]
  },
  {
   "cell_type": "code",
   "execution_count": 221,
   "metadata": {},
   "outputs": [
    {
     "data": {
      "text/plain": [
       "(0.46153846153846156, 0.23076923076923078)"
      ]
     },
     "execution_count": 221,
     "metadata": {},
     "output_type": "execute_result"
    }
   ],
   "source": [
    "MaxEp = 1000\n",
    "sonar_df = dataFrame(pd.read_table('Data/Sonar/sonar.all-data', sep = ',', header = None), 60, ['R', 'M'])\n",
    "\n",
    "sonar_collection = sonar_df.produce_collection()\n",
    "\n",
    "sonar_train, sonar_test = sonar_collection.generate_train_test_random()\n",
    "\n",
    "calculate_multiple_error_rates(adaline, sonar_train, sonar_test, 1, eta_01, MaxEp), calculate_multiple_error_rates(regression_logistique, sonar_train, sonar_test, 1, eta_01, MaxEp)"
   ]
  },
  {
   "cell_type": "markdown",
   "metadata": {},
   "source": [
    "Refaire l'opération 3 fois avec trois randomisations différentes. "
   ]
  },
  {
   "cell_type": "code",
   "execution_count": 222,
   "metadata": {},
   "outputs": [
    {
     "name": "stdout",
     "output_type": "stream",
     "text": [
      "\n",
      "Iteration: 1\n",
      "Adaline:  55.77\n",
      "Regression Logistique:  23.08\n",
      "\n",
      "Iteration: 2\n",
      "Adaline:  46.15\n",
      "Regression Logistique:  25.0\n",
      "\n",
      "Iteration: 3\n",
      "Adaline:  61.54\n",
      "Regression Logistique:  34.62\n"
     ]
    }
   ],
   "source": [
    "for _ in range(3):\n",
    "    print(\"\\nIteration:\", _+1)\n",
    "    sonar_train, sonar_test = sonar_collection.generate_train_test_random()\n",
    "    print(\"Adaline: \",round(calculate_multiple_error_rates(adaline, sonar_train, sonar_test, 1, eta_01, MaxEp) * 100, 2)) \n",
    "    print(\"Regression Logistique: \",round(calculate_multiple_error_rates(regression_logistique, sonar_train, sonar_test, 1, eta_01, MaxEp) * 100, 2))"
   ]
  },
  {
   "cell_type": "markdown",
   "metadata": {},
   "source": [
    "  | Collection | Adaline     | Régression Logistique |\n",
    "  |------------|-------------|-----------------------|\n",
    "  |   SONAR (réplica 1)   |$\\approx45$%|$\\approx27$%|\n",
    "  |   SONAR (réplica 2)   |$\\approx45$%|$\\approx27$%|\n",
    "  |   SONAR (réplica 3)   |$\\approx45$%|$\\approx27$%|\n"
   ]
  },
  {
   "cell_type": "markdown",
   "metadata": {},
   "source": [
    "## Partie 3: normalisation\n",
    "\n",
    "Nous allons étudier l'impact de la nomralisation sur les prédictions. Pour cela nous considérons deux stratégies de normalisation communément utilisées dans la littérature:\n",
    "* Stratégie <i>max</i>: consiste à normaliser chaque caractéristique du vecteur réprésentatif d'une observation par la valeur maximale de cette caractéristiques\n",
    "* Stratégie <i>norme</i>: consiste à normaliser chaque caractéristique du vecteur réprésentatif d'une observation par la norme de ce vecteur.\n",
    "\n",
    "Nous considérons ces trois autres collections de la base UCI:\n",
    "\n",
    "        * https://archive.ics.uci.edu/ml/datasets/Breast+Cancer+Wisconsin+%28Diagnostic%29\n",
    "        * https://archive.ics.uci.edu/ml/datasets/spambase\n",
    "        * https://archive.ics.uci.edu/ml/datasets/ionosphere\n",
    "\n",
    "        "
   ]
  },
  {
   "cell_type": "code",
   "execution_count": 223,
   "metadata": {},
   "outputs": [],
   "source": [
    "# Importer dataset #\n",
    "breast_cancer = dataFrame(pd.read_table('Data/BreastCancer/wdbc.data', header=None, sep=','), 1, ['B', 'M'])\n",
    "ionosphere = dataFrame(pd.read_csv('Data/Ionosphere/ionosphere.data', header=None, sep=','), 34, ['g', 'b'])\n",
    "spambase = dataFrame(pd.read_csv('Data/Spambase/spambase.data', header=None, sep=','), 57, None)"
   ]
  },
  {
   "cell_type": "markdown",
   "metadata": {},
   "source": [
    "\n",
    "<font color='red'><b>Question 5:</b></font> Ecrire une fonction qui prend en entrée la collection des données et qui retourne la collections normalisée suivant les stratégies <i>max</i> et <i>norme</i>. \n",
    "\n",
    "- Choisir tous les colonnes contenant des données numériques et les convertir en type `float` pour é viter les problème de division.\n",
    "-  <i>Max</i>: Diviser par la valeur maximale en valeur absolu\n",
    "-  <i>Norme</i>: Norme L2 "
   ]
  },
  {
   "cell_type": "code",
   "execution_count": 224,
   "metadata": {},
   "outputs": [],
   "source": [
    "def produce_normalized_collection(self, strategies):\n",
    "    normalized_collection = self.df.copy()\n",
    "    \n",
    "    numeric_cols = normalized_collection.select_dtypes(include=[np.number]).columns\n",
    "    \n",
    "    numeric_df = normalized_collection[numeric_cols].astype(float).copy()\n",
    "    \n",
    "    if strategies == 'max':\n",
    "        max_value = np.max(np.abs(numeric_df), axis=0)\n",
    "        max_value[max_value == 0] = 1 \n",
    "        numeric_df = numeric_df / max_value\n",
    "    \n",
    "    elif strategies == 'norme': \n",
    "        l2_norm = np.linalg.norm(numeric_df, ord=2, axis=0)\n",
    "        l2_norm[l2_norm == 0] = 1  \n",
    "        numeric_df = numeric_df / l2_norm\n",
    "        \n",
    "    else:\n",
    "        raise ValueError(\"Invalid normalization strategy\")\n",
    "    \n",
    "    normalized_collection[numeric_cols] = numeric_df\n",
    "    normalized_df = dataFrame(normalized_collection, self.target_column, self.class_type)\n",
    "    return normalized_df.produce_collection() \n",
    "\n",
    "\n",
    "dataFrame.produce_normalized_collection = produce_normalized_collection"
   ]
  },
  {
   "cell_type": "markdown",
   "metadata": {},
   "source": [
    "<font color='red'><b>Question 6:</b></font> Compléter les tableaux comparatifs suivants en repertant les erreurs moyennes sur 20 lancements des modèles de l'Adaline et de la Régression Logistique et pour les trois cas:\n",
    "\n",
    "\n"
   ]
  },
  {
   "cell_type": "code",
   "execution_count": null,
   "metadata": {},
   "outputs": [
    {
     "name": "stdout",
     "output_type": "stream",
     "text": [
      "Breast Cancer\n"
     ]
    },
    {
     "name": "stderr",
     "output_type": "stream",
     "text": [
      "/tmp/ipykernel_940/707351940.py:17: RuntimeWarning: overflow encountered in exp\n",
      "  return 1/(1 + np.exp(-w@x))\n"
     ]
    },
    {
     "name": "stdout",
     "output_type": "stream",
     "text": [
      "(0.0, 0.47608391608391615)\n",
      "Ionosphere\n",
      "(0.0, 0.1727272727272727)\n",
      "Sonar\n",
      "(0.4592307692307692, 0.2884615384615385)\n",
      "Spambase\n",
      "(0.0, 0.5005039096437879)\n"
     ]
    }
   ],
   "source": [
    "# num_iterations = 20\n",
    "MaxEp = 1000\n",
    "\n",
    "\n",
    "def mean_error(num_iterations, collection, MaxEp, eta):\n",
    "    ada_err = np.zeros(num_iterations)  \n",
    "    rel_err = np.zeros(num_iterations)\n",
    "    for _ in range(num_iterations):\n",
    "        # print(\"\\nIteration:\", _+1)\n",
    "        trains, tests = collection.generate_train_test_random()\n",
    "        ada_err[_] = (calculate_multiple_error_rates(adaline, trains, tests, 1, eta, MaxEp))\n",
    "        rel_err[_] = (calculate_multiple_error_rates(regression_logistique, trains, tests, 1, eta, MaxEp))\n",
    "    return np.mean(ada_err), np.mean(rel_err)\n",
    "\n",
    "\n",
    "# print(\"Breast Cancer\")\n",
    "# print(mean_error(num_iterations, breast_cancer.produce_collection(), MaxEp, eta_01))\n",
    "# print(\"Ionosphere\")\n",
    "# print(mean_error(num_iterations, ionosphere.produce_collection(), MaxEp, eta_01))\n",
    "# print(\"Sonar\")\n",
    "# print(mean_error(num_iterations, sonar_df.produce_collection(), MaxEp, eta_01))\n",
    "# print(\"Spambase\")\n",
    "# print(mean_error(num_iterations, spambase.produce_collection(), MaxEp, eta_01))"
   ]
  },
  {
   "cell_type": "markdown",
   "metadata": {},
   "source": [
    "\n",
    " '*' Les vecteurs ne sont pas normalisés\n",
    "     \n",
    "  | Collection |   Adaline   |  Régression Logistique |\n",
    "  |------------|-------------|------------------------|\n",
    "  |   BREAST   |             |                        |\n",
    "  |   IONO     |             |                        |\n",
    "  |   SONAR    |             |                        |\n",
    "  |   SPAM     |             |                        |\n"
   ]
  },
  {
   "cell_type": "code",
   "execution_count": null,
   "metadata": {},
   "outputs": [
    {
     "name": "stdout",
     "output_type": "stream",
     "text": [
      "Breast Cancer\n",
      "(0.3577622377622378, 0.39328671328671333)\n",
      "Ionosphere\n",
      "(0.3486363636363637, 0.28454545454545455)\n",
      "Sonar\n",
      "(0.3376923076923077, 0.43846153846153846)\n",
      "Spambase\n",
      "(0.0, 0.23325803649000867)\n"
     ]
    }
   ],
   "source": [
    "\n",
    "# # Normalisation avec strategie norme #\n",
    "# MaxEp = 100\n",
    "# print(\"Breast Cancer\")\n",
    "# print(mean_error(num_iterations, breast_cancer.produce_normalized_collection('norme'), MaxEp, eta_01))\n",
    "# print(\"Ionosphere\")\n",
    "# print(mean_error(num_iterations, ionosphere.produce_normalized_collection('norme'), MaxEp, eta_01))\n",
    "# print(\"Sonar\")\n",
    "# print(mean_error(num_iterations, sonar_df.produce_normalized_collection('norme'), MaxEp, eta_01))\n",
    "\n",
    "# MaxEp = 30\n",
    "# print(\"Spambase\")\n",
    "# print(mean_error(num_iterations, spambase.produce_normalized_collection('norme'), MaxEp, eta_01))\n"
   ]
  },
  {
   "cell_type": "markdown",
   "metadata": {},
   "source": [
    " \n",
    " $^n$ Normalisation suivant la stratégie <i>norme</i>\n",
    "     \n",
    "  | Collection |   Adaline   |  Régression Logistique |\n",
    "  |------------|-------------|------------------------|\n",
    "  |   BREAST   |             |                        |\n",
    "  |   IONO     |             |                        |\n",
    "  |   SONAR    |             |                        |\n",
    "  |   SPAM     |             |                        |\n",
    "\n",
    "  \n"
   ]
  },
  {
   "cell_type": "code",
   "execution_count": 241,
   "metadata": {},
   "outputs": [
    {
     "name": "stdout",
     "output_type": "stream",
     "text": [
      "Breast Cancer\n",
      "(0.17454545454545453, 0.106013986013986)\n",
      "Ionosphere\n",
      "(0.06136363636363637, 0.1640909090909091)\n",
      "Sonar\n",
      "(0.5092307692307693, 0.30846153846153845)\n",
      "Spambase\n",
      "(0.19030408340573413, 0.22467419635099917)\n"
     ]
    }
   ],
   "source": [
    "MaxEp = 500\n",
    "print(\"Breast Cancer\")\n",
    "print(mean_error(num_iterations, breast_cancer.produce_normalized_collection('max'), MaxEp, eta_01))\n",
    "print(\"Ionosphere\")\n",
    "print(mean_error(num_iterations, ionosphere.produce_normalized_collection('max'), MaxEp, eta_01))\n",
    "print(\"Sonar\")\n",
    "print(mean_error(num_iterations, sonar_df.produce_normalized_collection('max'), MaxEp, eta_01))\n",
    "print(\"Spambase\")\n",
    "print(mean_error(num_iterations, spambase.produce_normalized_collection('max'), MaxEp, eta_01))"
   ]
  },
  {
   "cell_type": "markdown",
   "metadata": {},
   "source": [
    " $^m$ Normalisation suivant la stratégie <i>max</i>\n",
    "    \n",
    "  | Collection |   Adaline   |  Régression Logistique |\n",
    "  |------------|-------------|------------------------|\n",
    "  |   BREAST   |             |                        |\n",
    "  |   IONO     |             |                        |\n",
    "  |   SONAR    |             |                        |\n",
    "  |   SPAM     |             |                        |\n"
   ]
  }
 ],
 "metadata": {
  "kernelspec": {
   "display_name": "Python 3",
   "language": "python",
   "name": "python3"
  },
  "language_info": {
   "codemirror_mode": {
    "name": "ipython",
    "version": 3
   },
   "file_extension": ".py",
   "mimetype": "text/x-python",
   "name": "python",
   "nbconvert_exporter": "python",
   "pygments_lexer": "ipython3",
   "version": "3.10.12"
  }
 },
 "nbformat": 4,
 "nbformat_minor": 1
}
