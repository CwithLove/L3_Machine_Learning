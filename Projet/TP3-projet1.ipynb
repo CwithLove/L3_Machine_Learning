{
 "cells": [
  {
   "cell_type": "code",
   "execution_count": 3,
   "metadata": {},
   "outputs": [],
   "source": [
    "import numpy as np\n",
    "import pandas as pd\n",
    "import sklearn\n",
    "from sklearn.model_selection import train_test_split\n",
    "import random"
   ]
  },
  {
   "cell_type": "markdown",
   "metadata": {},
   "source": [
    "# Projet: Modèles linéaires:  Adaline et Regression Logistique"
   ]
  },
  {
   "cell_type": "markdown",
   "metadata": {},
   "source": [
    "Nous allons nous intéresser à l'implémentation d'un algorithme de descente de gradient pour trouver le meilleur paramètre d'un module Adaline ou de regression logistique.\n",
    "\n",
    "Pout cela, on implémentera un algorithme de descente de gradient stochastique que nous avons vu au TP précédent et dont le pseudo-code peut être résumé comme suit:\n",
    "\n",
    "```input: Train, eta, m, MaxEp, modele\n",
    "init : w\n",
    "epoque=0\n",
    "while epoque<=MaxEp\n",
    "    choisir un exemple (x,y) de Train de façon aléatoire\n",
    "    calculer h = w*x\n",
    "    calculer Loss(h, y)\n",
    "    w <- w - eta*\"gradient de Loss(h, y) par rapport à w\"\n",
    "    epoque <- epoque+1\n",
    "output: w\n",
    "```\n",
    "où \"eta\" est le pas de la descente de gradient (exemple: eta=0.01).\n",
    "\n",
    "Si on veut imprimer l'erreur tous les \"m\" pas de gradient:\n",
    "```input: Train, eta, m, MaxEp, modele\n",
    "init : w\n",
    "epoque=0\n",
    "while epoque<=MaxEp\n",
    "    err = 0\n",
    "    for i in range(m):\n",
    "        choisir un exemple (x,y) de Train de façon aléatoire\n",
    "        calculer h = w*x\n",
    "        err += Loss(h, y)\n",
    "        w <- w - eta*\"gradient de Loss(h, y) par rapport à w\"\n",
    "    epoque <- epoque+1\n",
    "    print(err)\n",
    "output: w\n",
    "```\n",
    "\n",
    "Pour un poids $w$, on définit $h_\\mathbf{w}(\\mathbf{x})=w_0x_0+w_1x_1+...w_dx_d$. Pour chacun des deux modèles, et pour un exemple $(\\mathbf{x},y)$, la prédiction $\\hat{y}(\\mathbf{w}, \\mathbf{x})$ et la fonction de coût  $\\mathcal{L}(\\mathbf{w}, \\mathbf{x})$ sont: \n",
    "- Adaline: $\\hat{y}(\\mathbf{w}, \\mathbf{x}) = h_\\mathbf{w}(x)$ et $$\\mathcal{L}(\\mathbf{w})=(y-\\hat{y}(\\mathbf{w},\\mathbf{x}))^2=(y-h_\\mathbf{w}(\\mathbf{x}))^2,$$\n",
    "- Régression logistique: $\\hat{y}(w, x) = 1/(1+e^{-h_{\\mathbf{w}}(\\mathbf{x})})$ et $$\\mathcal{L}(\\mathbf{w}, x) = - y \\log \\hat{y}(\\mathbf{w},\\mathbf{x}) - (1-y)\\log(1-\\hat{y}(\\mathbf{w},\\mathbf{x})) = \\log(1+e^{h_{\\mathbf{w}}(\\mathbf{x})})-yh_\\mathbf{w}(\\mathbf{x}),$$\n",
    "\n",
    "Nous avons vu les gradients de ces fonctions en TD.\n",
    "\n",
    "## Partie 1: implémentation de l'algorithme et exemple du \"ET logique\"\n",
    "\n",
    "<font color='red'><b>Question 1:</b> le \"ET logique\".</font> Créer une liste de 4 éléments où chaque élément est un couple de la forme `[x,y]`, avec `x=[1,x1,x2]` et `y = x1 and x2`. Il y a 4 éléments car `x1` et `x2` peuvent chacun prendre la valeur `0` ou `1` (chacun de ces 4 éléments est une liste dont le premier élément est les attributs de l'exemple et le deuxième élément est la classe de l'exemple)."
   ]
  },
  {
   "cell_type": "code",
   "execution_count": 62,
   "metadata": {},
   "outputs": [
    {
     "data": {
      "text/plain": [
       "(array([[1, 0, 0],\n",
       "        [1, 1, 0],\n",
       "        [1, 0, 1],\n",
       "        [1, 1, 1]]),\n",
       " array([0, 0, 0, 1]))"
      ]
     },
     "execution_count": 62,
     "metadata": {},
     "output_type": "execute_result"
    }
   ],
   "source": [
    "liste = [0] * 4\n",
    "for x1 in range(2):\n",
    "    for x2 in range(2):\n",
    "        liste[x1*1+x2*2] = [[1,x1,x2], x1 and x2] \n",
    "\n",
    "X = np.array([x[0] for x in liste])\n",
    "Y = np.array([x[1] for x in liste])\n",
    "\n",
    "X,Y"
   ]
  },
  {
   "cell_type": "markdown",
   "metadata": {},
   "source": [
    "<font color='red'><b>Question 2:</b></font> Coder le modèle Adaline et le modèle de régression logistique et le faire tourner sur le modèle de \"ET logique\". Calculer le taux d'erreur de votre algorithme sur cette base (où une erreur est comptabilisé si la prédiction est plus proche de la fausse classe que de la vraie classe). \n"
   ]
  },
  {
   "cell_type": "code",
   "execution_count": 87,
   "metadata": {},
   "outputs": [
    {
     "name": "stdout",
     "output_type": "stream",
     "text": [
      "Final weights for Adaline on 'ET logique': [0.09753723 0.22911396 0.24058637]\n",
      "Final weights for Logistic Regression on 'ET logique': [-2.23846034  0.81422235  0.69427568]\n",
      "Training Adaline...\n",
      "Error rate: 0.0\n",
      "Error rate: 0.0\n",
      "Error rate: 0.0\n",
      "Error rate: 0.0\n",
      "Error rate: 0.0\n",
      "Error rate: 0.0\n",
      "Error rate: 0.0\n",
      "Error rate: 0.0\n",
      "Error rate: 0.0\n",
      "Error rate: 0.0\n",
      "Error rate: 0.0\n",
      "Error rate: 0.25\n",
      "Error rate: 0.25\n",
      "Error rate: 0.0\n",
      "Error rate: 0.0\n",
      "Error rate: 0.0\n",
      "Error rate: 0.25\n",
      "Error rate: 0.0\n",
      "Error rate: 0.0\n",
      "Error rate: 0.0\n",
      "Training Logistic Regression...\n",
      "Error rate: 0.0\n",
      "Error rate: 0.0\n",
      "Error rate: 0.0\n",
      "Error rate: 0.0\n",
      "Error rate: 0.0\n",
      "Error rate: 0.0\n",
      "Error rate: 0.0\n",
      "Error rate: 0.0\n",
      "Error rate: 0.0\n",
      "Error rate: 0.0\n",
      "Error rate: 0.0\n",
      "Error rate: 0.0\n",
      "Error rate: 0.0\n",
      "Error rate: 0.0\n",
      "Error rate: 0.25\n",
      "Error rate: 0.0\n",
      "Error rate: 0.0\n",
      "Error rate: 0.0\n",
      "Error rate: 0.0\n",
      "Error rate: 0.0\n"
     ]
    }
   ],
   "source": [
    "import random as rd\n",
    "\n",
    "# Adaline\n",
    "def h(w,x):\n",
    "    return w@x\n",
    "\n",
    "def loss_adaline(p,y):\n",
    "    return (y-p)**2\n",
    "\n",
    "def adaline_grad(w,x,y):\n",
    "    return 2*(h(w,x) - y)*x\n",
    "\n",
    "# Regression logistique\n",
    "def prediction_regression_logistique(w,x):\n",
    "    return 1/(1 + np.exp(-h(w,x)))\n",
    "\n",
    "def loss_regression_logistique(p,y):\n",
    "    p = np.clip(p, 1e-10, 1-1e-10)\n",
    "    return -y*np.log(p) - (1-y)*np.log(1-p)\n",
    "\n",
    "def regression_logistique_grad(w,x,y):\n",
    "    return (prediction_regression_logistique(w,x)-y)*x\n",
    "\n",
    "# Gradient\n",
    "def gradient(grad, w, x, y):\n",
    "    return grad(w,x,y)\n",
    "\n",
    "# Learning rate    \n",
    "def eta_001(t):\n",
    "    return 0.01\n",
    "\n",
    "def eta_01(t):\n",
    "    return 0.1\n",
    "    \n",
    "# Stochastic Gradient Descent\n",
    "def SGD(X, Y, Maxep, eta, p, loss_function, g, err_printing=True):\n",
    "    w = np.random.rand(len(X[0])) * 0.01\n",
    "    for epoque in range(Maxep):\n",
    "        i = rd.randint(0, len(Y) - 1)\n",
    "        pred = p(w, X[i])\n",
    "        if err_printing:\n",
    "            print(loss_function(pred, Y[i]))\n",
    "        w = w - eta(epoque) * g(w, X[i], Y[i])\n",
    "    return w\n",
    "\n",
    "def SGD_with_error_printing(X, Y, Maxep, eta, m, p, loss_function, g, err_printing=True):\n",
    "    w = np.random.rand(len(X[0])) * 0.01\n",
    "    for epoque in range(Maxep):\n",
    "        err = 0\n",
    "        for _ in range(m):\n",
    "            i = rd.randint(0, len(Y) - 1)\n",
    "            pred = p(w, X[i])\n",
    "            err += loss_function(pred, Y[i])\n",
    "            w = w - eta(epoque) * g(w, X[i], Y[i])\n",
    "        if err_printing:\n",
    "            print(\"epoque \", epoque, \": \", err)\n",
    "    return w\n",
    "\n",
    "# Training Adaline on \"ET logique\"\n",
    "w_adaline = SGD(X, Y, 100, eta_001, h, loss_adaline, adaline_grad, False)\n",
    "print(\"Final weights for Adaline on 'ET logique':\", w_adaline)\n",
    "# Training Logistic Regression on \"ET logique\"\n",
    "w_logistic = SGD_with_error_printing(X, Y, 100, eta_01, 2, prediction_regression_logistique, loss_regression_logistique, regression_logistique_grad, False)\n",
    "print(\"Final weights for Logistic Regression on 'ET logique':\", w_logistic)\n",
    "\n",
    "def calculate_error_rate(w, X, Y, prediction_function, rate_printing=False):\n",
    "    errors = 0\n",
    "    for i in range(len(Y)):\n",
    "        pred = prediction_function(w, X[i])\n",
    "        if rate_printing:\n",
    "            print(f\"P: {pred}, Y: {Y[i]}\")\n",
    "        if (pred >= 0.5 and Y[i] == 0) or (pred < 0.5 and Y[i] == 1):\n",
    "            errors += 1\n",
    "    return errors / len(Y)\n",
    "\n",
    "\n",
    "# Function to calculate error rate multiple times\n",
    "def calculate_multiple_error_rates(X, Y, num_iterations, model, prediction_function, eta, Maxep):\n",
    "    if model == 'adaline':\n",
    "        print(\"Training Adaline...\") \n",
    "    elif model == 'logistic':\n",
    "        print(\"Training Logistic Regression...\")\n",
    "\n",
    "    for _ in range(num_iterations):\n",
    "        if model == 'adaline':\n",
    "            w = SGD(X, Y, Maxep, eta, h, loss_adaline, adaline_grad, False)\n",
    "        elif model == 'logistic':\n",
    "            w = SGD(X, Y, Maxep, eta, prediction_regression_logistique, loss_regression_logistique, regression_logistique_grad, False)\n",
    "        error_rate = calculate_error_rate(w, X, Y, prediction_function, False)\n",
    "        print(\"Error rate:\", error_rate)\n",
    "\n",
    "\n",
    "# Calculate error rates for Adaline and Logistic Regression\n",
    "num_iterations = 20\n",
    "\n",
    "# calculate_multiple_error_rates(X, Y, num_iterations, 'adaline', h, eta_001, 100)\n",
    "calculate_multiple_error_rates(X, Y, num_iterations, 'adaline', h, eta_01, 100)\n",
    "# calculate_multiple_error_rates(X, Y, num_iterations, 'logistic', prediction_regression_logistique, eta_01, 100)\n",
    "# calculate_multiple_error_rates(X, Y, num_iterations, 'logistic', prediction_regression_logistique, eta_01, 200)\n",
    "calculate_multiple_error_rates(X, Y, num_iterations, 'logistic', prediction_regression_logistique, eta_01, 300)"
   ]
  },
  {
   "cell_type": "markdown",
   "metadata": {},
   "source": [
    "## Partie 2: premiers tests avec une base de donnée réelle\n",
    "\n",
    "<font color='red'><b>Question 3:</b></font> Nous allons maintenant nous intéresser au comportement de ces modèles sur la base SONAR de la collection UCI (http://archive.ics.uci.edu/ml/index.php). Cette base contient 208 exemples en dimension 60 séparés par `,` et la dernière élément correspond à la classe de l'exemple.\n",
    "\n",
    "    1. Télécharger la collection avec la fonction read_table de la librairie pandas (https://pandas.pydata.org/pandas-docs/stable/generated/pandas.read_table.html). Les options nécessaires sont `sep=','` et `header=None`  \n",
    "    2. Créer une liste de listes correspondant à la collection; pour cela initialiser la première liste et en parcourant chaque ligne de la matrice de données; créer une liste associée en remplaçant le dernier élément par `0` ou `+1` et insérer la dans la première liste. \n",
    "    Indication: Utiliser la fonction `loc`. \n",
    "    3. Écrire une fonction qui génère deux listes de données `x_train` (75%) and `x_test` (25%) en la mélangeant aléatoirement au préalable (indication: on pourra utiliser les fonctions `shuffle` de la librairie `random` et `train_test_split` de la librairie `sklearn.model_selection`)\n",
    "    "
   ]
  },
  {
   "cell_type": "code",
   "execution_count": 88,
   "metadata": {},
   "outputs": [],
   "source": [
    "df = pd.read_table('Data/Sonar/sonar.all-data', sep = ',', header = None)\n",
    "\n",
    "x = np.zeros((len(df), 60))\n",
    "y = np.zeros(208)\n",
    "\n",
    "for i in range(60):\n",
    "    x[:,i] = df[i]\n",
    "\n",
    "for i in range(208):\n",
    "    if df[60][i] == 'R': y[i] = 1\n",
    "    elif df[60][i]: y[i] = 0\n",
    "\n",
    "def generate_train_test_random(x, y):\n",
    "    data = list(zip(x, y))\n",
    "    rd.shuffle(data)\n",
    "    new_X = np.array([i for i, j in data])\n",
    "    new_Y = np.array([j for i, j in data])\n",
    "    x_train, x_test, y_train, y_test = train_test_split(new_X, new_Y, test_size=0.25)\n",
    "    return x_train, x_test, y_train, y_test\n",
    "\n"
   ]
  },
  {
   "cell_type": "markdown",
   "metadata": {},
   "source": [
    "<font color='red'><b>Question 4:</b></font> Appliquer ces modèles sur cette base en prenant comme $MaxEp=500$, le pas d'apprentissage $\\eta=0.1$ et en choisissant les bases Train et Test de façon aléatoire; Reporter l'erreur moyenne de ces modèles obtenues sur les Tests?  Refaire l'opération 3 fois avec trois randomisations différentes. \n"
   ]
  },
  {
   "cell_type": "code",
   "execution_count": 89,
   "metadata": {},
   "outputs": [
    {
     "name": "stdout",
     "output_type": "stream",
     "text": [
      "iter 0:\n",
      "Training Adaline on sonar data...\n",
      "Error rate: 0.18363731655300558\n",
      "Training Logistic Regression on sonar data...\n",
      "Error rate: 0.5713975623046115\n",
      "\n",
      "iter 1:\n",
      "Training Adaline on sonar data...\n",
      "Error rate: 0.19886724528491245\n",
      "Training Logistic Regression on sonar data...\n",
      "Error rate: 0.5196932645371463\n",
      "\n",
      "iter 2:\n",
      "Training Adaline on sonar data...\n",
      "Error rate: 0.20051839986274403\n",
      "Training Logistic Regression on sonar data...\n",
      "Error rate: 0.5524620074370019\n",
      "\n"
     ]
    }
   ],
   "source": [
    "MaxEp = 500\n",
    "\n",
    "for _ in range(3):\n",
    "    x_train, x_test, y_train, y_test = generate_train_test_random(x, y)\n",
    "    out = \"iter \" + str(_) + \":\\n\"   \n",
    "    out += \"Training Adaline on sonar data...\\n\"\n",
    "    w_adaline = SGD(x_train, y_train, MaxEp, eta_001, h, loss_adaline, adaline_grad, False)\n",
    "    error_rate = []\n",
    "    for x_i, y_i in zip(x_test, y_test):\n",
    "        error_rate.append(loss_adaline(h(w_adaline, x_i), y_i))\n",
    "    out += \"Error rate: \" + str(np.mean(error_rate)) + \"\\n\"\n",
    "    \n",
    "    out += \"Training Logistic Regression on sonar data...\\n\"\n",
    "    w_logistic = SGD(x_train, y_train, MaxEp, eta_01, prediction_regression_logistique, loss_regression_logistique, regression_logistique_grad, False)\n",
    "    error_rate = []\n",
    "    for x_i, y_i in zip(x_test, y_test):\n",
    "        error_rate.append(loss_regression_logistique(prediction_regression_logistique(w_logistic, x_i), y_i))\n",
    "    out += \"Error rate: \" + str(np.mean(error_rate)) + \"\\n\"\n",
    "    print(out)"
   ]
  },
  {
   "cell_type": "markdown",
   "metadata": {},
   "source": [
    "  | Collection | Adaline     | Régression Logistique |\n",
    "  |------------|-------------|-----------------------|\n",
    "  |   SONAR (réplica 1)   |             |                       |\n",
    "  |   SONAR (réplica 2)   |             |                       |\n",
    "  |   SONAR (réplica 3)   |             |                       |\n"
   ]
  },
  {
   "cell_type": "markdown",
   "metadata": {},
   "source": [
    "## Partie 3: normalisation\n",
    "\n",
    "Nous allons étudier l'impact de la nomralisation sur les prédictions. Pour cela nous considérons deux stratégies de normalisation communément utilisées dans la littérature:\n",
    "* Stratégie <i>max</i>: consiste à normaliser chaque caractéristique du vecteur réprésentatif d'une observation par la valeur maximale de cette caractéristiques\n",
    "* Stratégie <i>norme</i>: consiste à normaliser chaque caractéristique du vecteur réprésentatif d'une observation par la norme de ce vecteur.\n",
    "\n",
    "Nous considérons ces trois autres collections de la base UCI:\n",
    "\n",
    "        * https://archive.ics.uci.edu/ml/datasets/Breast+Cancer+Wisconsin+%28Diagnostic%29\n",
    "        * https://archive.ics.uci.edu/ml/datasets/spambase\n",
    "        * https://archive.ics.uci.edu/ml/datasets/ionosphere\n",
    "\n",
    "<font color='red'><b>Question 5:</b></font> Ecrire une fonction qui prend en entrée la collection des données et qui retourne la collections normalisée suivant les stratégies <i>max</i> et <i>norme</i>. \n",
    "        "
   ]
  },
  {
   "cell_type": "code",
   "execution_count": 92,
   "metadata": {},
   "outputs": [
    {
     "ename": "ValueError",
     "evalue": "could not convert string to float: 'M'",
     "output_type": "error",
     "traceback": [
      "\u001b[0;31m---------------------------------------------------------------------------\u001b[0m",
      "\u001b[0;31mValueError\u001b[0m                                Traceback (most recent call last)",
      "\u001b[0;32m/tmp/ipykernel_10558/4116576651.py\u001b[0m in \u001b[0;36m<module>\u001b[0;34m\u001b[0m\n\u001b[1;32m     46\u001b[0m \u001b[0;34m\u001b[0m\u001b[0m\n\u001b[1;32m     47\u001b[0m \u001b[0;32mfor\u001b[0m \u001b[0mi\u001b[0m \u001b[0;32min\u001b[0m \u001b[0mrange\u001b[0m\u001b[0;34m(\u001b[0m\u001b[0;36m30\u001b[0m\u001b[0;34m)\u001b[0m\u001b[0;34m:\u001b[0m\u001b[0;34m\u001b[0m\u001b[0;34m\u001b[0m\u001b[0m\n\u001b[0;32m---> 48\u001b[0;31m     \u001b[0mX_BreastCancer\u001b[0m\u001b[0;34m[\u001b[0m\u001b[0;34m:\u001b[0m\u001b[0;34m,\u001b[0m\u001b[0mi\u001b[0m\u001b[0;34m]\u001b[0m \u001b[0;34m=\u001b[0m \u001b[0mBreastCancer\u001b[0m\u001b[0;34m[\u001b[0m\u001b[0mi\u001b[0m\u001b[0;34m]\u001b[0m\u001b[0;34m\u001b[0m\u001b[0;34m\u001b[0m\u001b[0m\n\u001b[0m\u001b[1;32m     49\u001b[0m \u001b[0;34m\u001b[0m\u001b[0m\n\u001b[1;32m     50\u001b[0m \u001b[0;32mfor\u001b[0m \u001b[0mi\u001b[0m \u001b[0;32min\u001b[0m \u001b[0mrange\u001b[0m\u001b[0;34m(\u001b[0m\u001b[0mlen\u001b[0m\u001b[0;34m(\u001b[0m\u001b[0mBreastCancer\u001b[0m\u001b[0;34m)\u001b[0m\u001b[0;34m)\u001b[0m\u001b[0;34m:\u001b[0m\u001b[0;34m\u001b[0m\u001b[0;34m\u001b[0m\u001b[0m\n",
      "\u001b[0;32m/usr/lib/python3/dist-packages/pandas/core/series.py\u001b[0m in \u001b[0;36m__array__\u001b[0;34m(self, dtype)\u001b[0m\n\u001b[1;32m    855\u001b[0m               dtype='datetime64[ns]')\n\u001b[1;32m    856\u001b[0m         \"\"\"\n\u001b[0;32m--> 857\u001b[0;31m         \u001b[0;32mreturn\u001b[0m \u001b[0mnp\u001b[0m\u001b[0;34m.\u001b[0m\u001b[0masarray\u001b[0m\u001b[0;34m(\u001b[0m\u001b[0mself\u001b[0m\u001b[0;34m.\u001b[0m\u001b[0m_values\u001b[0m\u001b[0;34m,\u001b[0m \u001b[0mdtype\u001b[0m\u001b[0;34m)\u001b[0m\u001b[0;34m\u001b[0m\u001b[0;34m\u001b[0m\u001b[0m\n\u001b[0m\u001b[1;32m    858\u001b[0m \u001b[0;34m\u001b[0m\u001b[0m\n\u001b[1;32m    859\u001b[0m     \u001b[0;31m# ----------------------------------------------------------------------\u001b[0m\u001b[0;34m\u001b[0m\u001b[0;34m\u001b[0m\u001b[0m\n",
      "\u001b[0;31mValueError\u001b[0m: could not convert string to float: 'M'"
     ]
    }
   ],
   "source": [
    "BreastCancer = pd.read_table('Data/BreastCancer/wdbc.data', header=None, sep=',')\n",
    "Ionosphere = pd.read_csv('Data/Ionosphere/ionosphere.data', header=None, sep=',')\n",
    "Spambase = pd.read_csv('Data/Spambase/spambase.data', header=None, sep=',')\n",
    "\n",
    "def produce_collection(dataFrame, numL, numC, targetC, classType):\n",
    "    \"\"\"\n",
    "    Entree: dataFrame, numL\n",
    "    Sortie: features, target\n",
    "    \"\"\"\n",
    "    \n",
    "    for i in range(numC - 1):\n",
    "        if (i == targetC):\n",
    "            break\n",
    "        x[:,i] = dataFrame[i]\n",
    "\n",
    "    for i in range(targetC):\n",
    "        if dataFrame[targetC][i] == classType[0]: y[i] = 1\n",
    "        elif dataFrame[targetC][i] == classType[1]: y[i] = 0\n",
    "        else: \n",
    "            print(\"Error\")\n",
    "            exit(0)\n",
    "\n",
    "\n",
    "def normalizer_collection(collection, strategies = 'max'):\n",
    "    collection_clone = collection.select_dtypes(include=[np.number]).astype(float).copy()\n",
    "    \n",
    "    if strategies == 'max':\n",
    "        max_value = np.max(np.abs(collection_clone), axis=0)\n",
    "        max_value[max_value == 0] = 1\n",
    "        collection_clone = collection_clone / max_value\n",
    "    \n",
    "    # X = - ecarttype/moyen\n",
    "    elif strategies == 'norme':\n",
    "        normes = np.linalg.norm(collection_clone, axis=0)\n",
    "        normes[normes == 0] = 1\n",
    "        collection_clone = collection_clone / normes\n",
    "    else:\n",
    "        raise ValueError(\"Invalid normalization strategy\")\n",
    "\n",
    "    collection[collection_clone.columns] = collection_clone\n",
    "    return collection\n",
    "\n",
    "\n",
    "X_BreastCancer = np.zeros((len(BreastCancer), 31))\n",
    "Y_BreastCancer = np.zeros(len(BreastCancer))\n",
    "\n",
    "for i in range(30):\n",
    "    X_BreastCancer[:,i] = BreastCancer[i]\n",
    "\n",
    "for i in range(len(BreastCancer)):\n",
    "    if BreastCancer[1][i] == 'M': Y_BreastCancer[i] = 1\n",
    "    else: Y_BreastCancer[i] = -0\n",
    "    \n",
    "Y_BreastCancer\n"
   ]
  },
  {
   "cell_type": "markdown",
   "metadata": {},
   "source": [
    "<font color='red'><b>Question 6:</b></font> Compléter les tableaux comparatifs suivants en repertant les erreurs moyennes sur 20 lancements des modèles de l'Adaline et de la Régression Logistique et pour les trois cas:\n",
    "\n",
    " '*' Les vecteurs ne sont pas normalisés\n",
    "     \n",
    "  | Collection |   Adaline   |  Régression Logistique |\n",
    "  |------------|-------------|------------------------|\n",
    "  |   BREAST   |             |                        |\n",
    "  |   IONO     |             |                        |\n",
    "  |   SONAR    |             |                        |\n",
    "  |   SPAM     |             |                        |\n",
    "\n",
    "\n"
   ]
  },
  {
   "cell_type": "code",
   "execution_count": 22,
   "metadata": {},
   "outputs": [
    {
     "ename": "IndentationError",
     "evalue": "expected an indented block after function definition on line 3 (3916141687.py, line 9)",
     "output_type": "error",
     "traceback": [
      "\u001b[0;36m  File \u001b[0;32m\"/tmp/ipykernel_10558/3916141687.py\"\u001b[0;36m, line \u001b[0;32m9\u001b[0m\n\u001b[0;31m    print(\"collection non normalized\")\u001b[0m\n\u001b[0m    ^\u001b[0m\n\u001b[0;31mIndentationError\u001b[0m\u001b[0;31m:\u001b[0m expected an indented block after function definition on line 3\n"
     ]
    }
   ],
   "source": [
    "Maxep = 500\n",
    "\n",
    "def calculate_mean_error():\n",
    "    pass\n",
    "\n",
    "\n",
    "\n",
    "\n",
    "print(\"collection non normalized\")\n",
    "\n"
   ]
  },
  {
   "cell_type": "code",
   "execution_count": 70,
   "metadata": {},
   "outputs": [
    {
     "name": "stdout",
     "output_type": "stream",
     "text": [
      "collection normalized with norme\n"
     ]
    }
   ],
   "source": [
    "print(\"collection normalized with norme\")\n",
    "\n",
    "BreastCancer_normalized_norme = normalizer_collection(BreastCancer, strategies='norme')\n",
    "Ionosphere_normalized_norme = normalizer_collection(Ionosphere, strategies='norme')\n",
    "Spambase_normalized_norme = normalizer_collection(Spambase, strategies='norme')"
   ]
  },
  {
   "cell_type": "markdown",
   "metadata": {},
   "source": [
    " \n",
    " $^n$ Normalisation suivant la stratégie <i>norme</i>\n",
    "     \n",
    "  | Collection |   Adaline   |  Régression Logistique |\n",
    "  |------------|-------------|------------------------|\n",
    "  |   BREAST   |             |                        |\n",
    "  |   IONO     |             |                        |\n",
    "  |   SONAR    |             |                        |\n",
    "  |   SPAM     |             |                        |\n",
    "\n",
    "  \n"
   ]
  },
  {
   "cell_type": "code",
   "execution_count": 71,
   "metadata": {},
   "outputs": [
    {
     "name": "stdout",
     "output_type": "stream",
     "text": [
      "collection normalized with max\n"
     ]
    }
   ],
   "source": [
    "print(\"collection normalized with max\")\n",
    "\n",
    "BreastCancer_normalized_max = normalizer_collection(BreastCancer, strategies='max')\n",
    "Ionosphere_normalized_max = normalizer_collection(Ionosphere, strategies='max')\n",
    "Spambase_normalized_max = normalizer_collection(Spambase, strategies='max')"
   ]
  },
  {
   "cell_type": "markdown",
   "metadata": {},
   "source": [
    " $^m$ Normalisation suivant la stratégie <i>max</i>\n",
    "    \n",
    "  | Collection |   Adaline   |  Régression Logistique |\n",
    "  |------------|-------------|------------------------|\n",
    "  |   BREAST   |             |                        |\n",
    "  |   IONO     |             |                        |\n",
    "  |   SONAR    |             |                        |\n",
    "  |   SPAM     |             |                        |\n"
   ]
  }
 ],
 "metadata": {
  "kernelspec": {
   "display_name": "Python 3 (ipykernel)",
   "language": "python",
   "name": "python3"
  },
  "language_info": {
   "codemirror_mode": {
    "name": "ipython",
    "version": 3
   },
   "file_extension": ".py",
   "mimetype": "text/x-python",
   "name": "python",
   "nbconvert_exporter": "python",
   "pygments_lexer": "ipython3",
   "version": "3.10.12"
  }
 },
 "nbformat": 4,
 "nbformat_minor": 1
}
