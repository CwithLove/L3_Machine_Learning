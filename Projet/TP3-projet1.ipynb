{
 "cells": [
  {
   "cell_type": "code",
   "execution_count": 3,
   "metadata": {},
   "outputs": [
    {
     "ename": "ModuleNotFoundError",
     "evalue": "No module named 'pandas'",
     "output_type": "error",
     "traceback": [
      "\u001b[0;31m---------------------------------------------------------------------------\u001b[0m",
      "\u001b[0;31mModuleNotFoundError\u001b[0m                       Traceback (most recent call last)",
      "\u001b[0;32m<ipython-input-3-a61869efbbd3>\u001b[0m in \u001b[0;36m<module>\u001b[0;34m\u001b[0m\n\u001b[1;32m      1\u001b[0m \u001b[0;32mimport\u001b[0m \u001b[0mnumpy\u001b[0m \u001b[0;32mas\u001b[0m \u001b[0mnp\u001b[0m\u001b[0;34m\u001b[0m\u001b[0;34m\u001b[0m\u001b[0m\n\u001b[0;32m----> 2\u001b[0;31m \u001b[0;32mimport\u001b[0m \u001b[0mpandas\u001b[0m \u001b[0;32mas\u001b[0m \u001b[0mpd\u001b[0m\u001b[0;34m\u001b[0m\u001b[0;34m\u001b[0m\u001b[0m\n\u001b[0m\u001b[1;32m      3\u001b[0m \u001b[0;32mimport\u001b[0m \u001b[0msklearn\u001b[0m\u001b[0;34m\u001b[0m\u001b[0;34m\u001b[0m\u001b[0m\n\u001b[1;32m      4\u001b[0m \u001b[0;32mfrom\u001b[0m \u001b[0msklearn\u001b[0m\u001b[0;34m.\u001b[0m\u001b[0mmodel_selection\u001b[0m \u001b[0;32mimport\u001b[0m \u001b[0mtrain_test_split\u001b[0m\u001b[0;34m\u001b[0m\u001b[0;34m\u001b[0m\u001b[0m\n\u001b[1;32m      5\u001b[0m \u001b[0;32mimport\u001b[0m \u001b[0mrandom\u001b[0m\u001b[0;34m\u001b[0m\u001b[0;34m\u001b[0m\u001b[0m\n",
      "\u001b[0;31mModuleNotFoundError\u001b[0m: No module named 'pandas'"
     ]
    }
   ],
   "source": [
    "import numpy as np\n",
    "import pandas as pd\n",
    "import sklearn\n",
    "from sklearn.model_selection import train_test_split\n",
    "import random"
   ]
  },
  {
   "cell_type": "markdown",
   "metadata": {},
   "source": [
    "# Projet: Modèles linéaires:  Adaline et Regression Logistique"
   ]
  },
  {
   "cell_type": "markdown",
   "metadata": {},
   "source": [
    "Nous allons nous intéresser à l'implémentation d'un algorithme de descente de gradient pour trouver le meilleur paramètre d'un module Adaline ou de regression logistique.\n",
    "\n",
    "Pout cela, on implémentera un algorithme de descente de gradient stochastique que nous avons vu au TP précédent et dont le pseudo-code peut être résumé comme suit:\n",
    "\n",
    "```input: Train, eta, m, MaxEp, modele\n",
    "init : w\n",
    "epoque=0\n",
    "while epoque<=MaxEp\n",
    "    choisir un exemple (x,y) de Train de façon aléatoire\n",
    "    calculer h = w*x\n",
    "    calculer Loss(h, y)\n",
    "    w <- w - eta*\"gradient de Loss(h, y) par rapport à w\"\n",
    "    epoque <- epoque+1\n",
    "output: w\n",
    "```\n",
    "où \"eta\" est le pas de la descente de gradient (exemple: eta=0.01).\n",
    "\n",
    "Si on veut imprimer l'erreur tous les \"m\" pas de gradient:\n",
    "```input: Train, eta, m, MaxEp, modele\n",
    "init : w\n",
    "epoque=0\n",
    "while epoque<=MaxEp\n",
    "    err = 0\n",
    "    for i in range(m):\n",
    "        choisir un exemple (x,y) de Train de façon aléatoire\n",
    "        calculer h = w*x\n",
    "        err += Loss(h, y)\n",
    "        w <- w - eta*\"gradient de Loss(h, y) par rapport à w\"\n",
    "    epoque <- epoque+1\n",
    "    print(err)\n",
    "output: w\n",
    "```\n",
    "\n",
    "Pour un poids $w$, on définit $h_\\mathbf{w}(\\mathbf{x})=w_0x_0+w_1x_1+...w_dx_d$. Pour chacun des deux modèles, et pour un exemple $(\\mathbf{x},y)$, la prédiction $\\hat{y}(\\mathbf{w}, \\mathbf{x})$ et la fonction de coût  $\\mathcal{L}(\\mathbf{w}, \\mathbf{x})$ sont: \n",
    "- Adaline: $\\hat{y}(\\mathbf{w}, \\mathbf{x}) = h_\\mathbf{w}(x)$ et $$\\mathcal{L}(\\mathbf{w})=(y-\\hat{y}(\\mathbf{w},\\mathbf{x}))^2=(y-h_\\mathbf{w}(\\mathbf{x}))^2,$$\n",
    "- Régression logistique: $\\hat{y}(w, x) = 1/(1+e^{-h_{\\mathbf{w}}(\\mathbf{x})})$ et $$\\mathcal{L}(\\mathbf{w}, x) = - y \\log \\hat{y}(\\mathbf{w},\\mathbf{x}) - (1-y)\\log(1-\\hat{y}(\\mathbf{w},\\mathbf{x})) = \\log(1+e^{h_{\\mathbf{w}}(\\mathbf{x})})-yh_\\mathbf{w}(\\mathbf{x}),$$\n",
    "\n",
    "Nous avons vu les gradients de ces fonctions en TD.\n",
    "\n",
    "## Partie 1: implémentation de l'algorithme et exemple du \"ET logique\"\n",
    "\n",
    "<font color='red'><b>Question 1:</b> le \"ET logique\".</font> Créer une liste de 4 éléments où chaque élément est un couple de la forme `[x,y]`, avec `x=[1,x1,x2]` et `y = x1 and x2`. Il y a 4 éléments car `x1` et `x2` peuvent chacun prendre la valeur `0` ou `1` (chacun de ces 4 éléments est une liste dont le premier élément est les attributs de l'exemple et le deuxième élément est la classe de l'exemple)."
   ]
  },
  {
   "cell_type": "code",
   "execution_count": 56,
   "metadata": {},
   "outputs": [
    {
     "data": {
      "text/plain": [
       "[[[1, 0, 0], 0], [[1, 1, 0], 0], [[1, 0, 1], 0], [[1, 1, 1], 1]]"
      ]
     },
     "execution_count": 56,
     "metadata": {},
     "output_type": "execute_result"
    }
   ],
   "source": [
    "liste = [0] * 4\n",
    "for x1 in range(2):\n",
    "    for x2 in range(2):\n",
    "        liste[x1*1+x2*2] = [[1,x1,x2], x1 and x2] \n",
    "liste"
   ]
  },
  {
   "cell_type": "markdown",
   "metadata": {},
   "source": [
    "<font color='red'><b>Question 2:</b></font> Coder le modèle Adaline et le modèle de régression logistique et le faire tourner sur le modèle de \"ET logique\". Calculer le taux d'erreur de votre algorithme sur cette base (où une erreur est comptabilisé si la prédiction est plus proche de la fausse classe que de la vraie classe). \n"
   ]
  },
  {
   "cell_type": "code",
   "execution_count": 23,
   "metadata": {},
   "outputs": [],
   "source": [
    "def prediction(w,x): #hw(x)\n",
    "    return w@x\n",
    "\n",
    "def adaline(p,y):\n",
    "    return (y-p)**2\n",
    "\n",
    "def regression_logistique(p,y):\n",
    "    return -y*h + np.log(1+np.exp(-p))\n",
    "    \n",
    "def gradient(l, w, x, y):\n",
    "    if l == adaline:\n",
    "        return 2*(prediction(w, x)-y)*x\n",
    "    elif l == regression_logistique:\n",
    "        return (prediction(w,x)-y)*x\n",
    "    else:\n",
    "        exit(1)\n",
    "    \n",
    "def eta_001(t):\n",
    "    return 0.01\n",
    "    \n",
    "def SGD(X, Y, Maxep, eta, loss_function):\n",
    "    w = np.random.rand(3)*0.01\n",
    "    for epoque in range(Maxep):\n",
    "        i = rd.randint(0, n - 1)\n",
    "        p = prediction(w,X[i])\n",
    "        print(loss_function(p,Y[i]))\n",
    "        w = w - eta(t) * gradient()\n",
    "    return w"
   ]
  },
  {
   "cell_type": "markdown",
   "metadata": {},
   "source": [
    "## Partie 2: premiers tests avec une base de donnée réelle\n",
    "\n",
    "<font color='red'><b>Question 3:</b></font> Nous allons maintenant nous intéresser au comportement de ces modèles sur la base SONAR de la collection UCI (http://archive.ics.uci.edu/ml/index.php). Cette base contient 208 exemples en dimension 60 séparés par `,` et la dernière élément correspond à la classe de l'exemple.\n",
    "\n",
    "    1. Télécharger la collection avec la fonction read_table de la librairie pandas (https://pandas.pydata.org/pandas-docs/stable/generated/pandas.read_table.html). Les options nécessaires sont `sep=','` et `header=None`  \n",
    "    2. Créer une liste de listes correspondant à la collection; pour cela initialiser la première liste et en parcourant chaque ligne de la matrice de données; créer une liste associée en remplaçant le dernier élément par `-1` ou `+1` et insérer la dans la première liste. \n",
    "    Indication: Utiliser la fonction `loc`. \n",
    "    3. Écrire une fonction qui génère deux listes de données `x_train` (75%) and `x_test` (25%) en la mélangeant aléatoirement au préalable (indication: on pourra utiliser les fonctions `shuffle` de la librairie `random` et `train_test_split` de la librairie `sklearn.model_selection`)\n",
    "    "
   ]
  },
  {
   "cell_type": "code",
   "execution_count": 60,
   "metadata": {},
   "outputs": [
    {
     "data": {
      "text/plain": [
       "0      R\n",
       "1      R\n",
       "2      R\n",
       "3      R\n",
       "4      R\n",
       "      ..\n",
       "203    M\n",
       "204    M\n",
       "205    M\n",
       "206    M\n",
       "207    M\n",
       "Name: 60, Length: 208, dtype: object"
      ]
     },
     "execution_count": 60,
     "metadata": {},
     "output_type": "execute_result"
    }
   ],
   "source": [
    "df = pd.read_table('Data/sonar.all-data', sep = ',', header = None)\n",
    "len(df)\n",
    "X = np.zeros((len(df), 60))\n",
    "\n",
    "for i in range(60):\n",
    "    X[:,i] = df[i]\n",
    "    \n",
    "# df\n",
    "# Y = np.zeros((1))\n",
    "# for i in range(len(df)):\n",
    "#     if df[i] == R: Y[i] = 1\n",
    "#     else: Y[i] = -1\n",
    "\n",
    "df[60]\n"
   ]
  },
  {
   "cell_type": "code",
   "execution_count": null,
   "metadata": {},
   "outputs": [],
   "source": []
  },
  {
   "cell_type": "markdown",
   "metadata": {},
   "source": [
    "<font color='red'><b>Question 4:</b></font> Appliquer ces modèles sur cette base en prenant comme $MaxEp=500$, le pas d'apprentissage $\\eta=0.1$ et en choisissant les bases Train et Test de façon aléatoire; Reporter l'erreur moyenne de ces modèles obtenues sur les 20 bases Test?  Refaire l'opération 3 fois avec trois randomisations différentes. \n"
   ]
  },
  {
   "cell_type": "code",
   "execution_count": null,
   "metadata": {},
   "outputs": [],
   "source": []
  },
  {
   "cell_type": "markdown",
   "metadata": {},
   "source": [
    "  | Collection | Adaline     | Régression Logistique |\n",
    "  |------------|-------------|-----------------------|\n",
    "  |   SONAR (réplica 1)   |             |                       |\n",
    "  |   SONAR (réplica 2)   |             |                       |\n",
    "  |   SONAR (réplica 3)   |             |                       |\n"
   ]
  },
  {
   "cell_type": "markdown",
   "metadata": {},
   "source": [
    "## Partie 3: normalisation\n",
    "\n",
    "Nous allons étudier l'impact de la nomralisation sur les prédictions. Pour cela nous considérons deux stratégies de normalisation communément utilisées dans la littérature:\n",
    "* Stratégie <i>max</i>: consiste à normaliser chaque caractéristique du vecteur réprésentatif d'une observation par la valeur maximale de cette caractéristiques\n",
    "* Stratégie <i>norme</i>: consiste à normaliser chaque caractéristique du vecteur réprésentatif d'une observation par la norme de ce vecteur.\n",
    "\n",
    "Nous considérons ces trois autres collections de la base UCI:\n",
    "\n",
    "        * https://archive.ics.uci.edu/ml/datasets/Breast+Cancer+Wisconsin+%28Diagnostic%29\n",
    "        * https://archive.ics.uci.edu/ml/datasets/spambase\n",
    "        * https://archive.ics.uci.edu/ml/datasets/ionosphere\n",
    "\n",
    "<font color='red'><b>Question 5:</b></font> Ecrire une fonction qui prend en entrée la collection des données et qui retourne la collections normalisée suivant les stratégies <i>max</i> et <i>norme</i>. \n",
    "        "
   ]
  },
  {
   "cell_type": "code",
   "execution_count": null,
   "metadata": {},
   "outputs": [],
   "source": []
  },
  {
   "cell_type": "markdown",
   "metadata": {},
   "source": [
    "<font color='red'><b>Question 6:</b></font> Compléter les tableaux comparatifs suivants en repertant les erreurs moyennes sur 20 lancements des modèles de l'Adaline et de la Régression Logistique et pour les trois cas:\n",
    "\n",
    " '*' Les vecteurs ne sont pas normalisés\n",
    "     \n",
    "  | Collection |   Adaline   |  Régression Logistique |\n",
    "  |------------|-------------|------------------------|\n",
    "  |   BREAST   |             |                        |\n",
    "  |   IONO     |             |                        |\n",
    "  |   SONAR    |             |                        |\n",
    "  |   SPAM     |             |                        |\n",
    "\n",
    " \n",
    " $^n$ Normalisation suivant la stratégie <i>norme</i>\n",
    "     \n",
    "  | Collection |   Adaline   |  Régression Logistique |\n",
    "  |------------|-------------|------------------------|\n",
    "  |   BREAST   |             |                        |\n",
    "  |   IONO     |             |                        |\n",
    "  |   SONAR    |             |                        |\n",
    "  |   SPAM     |             |                        |\n",
    "\n",
    "  \n",
    " $^m$ Normalisation suivant la stratégie <i>max</i>\n",
    "    \n",
    "  | Collection |   Adaline   |  Régression Logistique |\n",
    "  |------------|-------------|------------------------|\n",
    "  |   BREAST   |             |                        |\n",
    "  |   IONO     |             |                        |\n",
    "  |   SONAR    |             |                        |\n",
    "  |   SPAM     |             |                        |\n"
   ]
  },
  {
   "cell_type": "code",
   "execution_count": null,
   "metadata": {},
   "outputs": [],
   "source": []
  }
 ],
 "metadata": {
  "kernelspec": {
   "display_name": "Python 3",
   "language": "python",
   "name": "python3"
  },
  "language_info": {
   "codemirror_mode": {
    "name": "ipython",
    "version": 3
   },
   "file_extension": ".py",
   "mimetype": "text/x-python",
   "name": "python",
   "nbconvert_exporter": "python",
   "pygments_lexer": "ipython3",
   "version": "3.7.3"
  }
 },
 "nbformat": 4,
 "nbformat_minor": 1
}
